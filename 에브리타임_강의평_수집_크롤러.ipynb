{
  "nbformat": 4,
  "nbformat_minor": 0,
  "metadata": {
    "colab": {
      "provenance": [],
      "include_colab_link": true
    },
    "kernelspec": {
      "name": "python3",
      "display_name": "Python 3"
    },
    "language_info": {
      "name": "python"
    }
  },
  "cells": [
    {
      "cell_type": "markdown",
      "metadata": {
        "id": "view-in-github",
        "colab_type": "text"
      },
      "source": [
        "<a href=\"https://colab.research.google.com/github/Esther021004/Ai_service_design/blob/main/%EC%97%90%EB%B8%8C%EB%A6%AC%ED%83%80%EC%9E%84_%EA%B0%95%EC%9D%98%ED%8F%89_%EC%88%98%EC%A7%91_%ED%81%AC%EB%A1%A4%EB%9F%AC.ipynb\" target=\"_parent\"><img src=\"https://colab.research.google.com/assets/colab-badge.svg\" alt=\"Open In Colab\"/></a>"
      ]
    },
    {
      "cell_type": "markdown",
      "source": [
        "#**에브리타임 강의평 수집 크롤러**"
      ],
      "metadata": {
        "id": "xvJM3LDUhu6Y"
      }
    },
    {
      "cell_type": "markdown",
      "source": [
        "에브리타임에서 모든 강의평을 수집할 수 있는 파이썬 코드이다."
      ],
      "metadata": {
        "id": "e5q8FVW0wHDz"
      }
    },
    {
      "cell_type": "markdown",
      "source": [
        "##**1. 수집 과정 설명**"
      ],
      "metadata": {
        "id": "Qyhk34UHj4BG"
      }
    },
    {
      "cell_type": "markdown",
      "source": [
        "(1) 학교 개설강좌의 교과목명과 교수명을 수집한 파일을 만든다.    \n",
        "(2) 에브리타임 로그인을 Selenium WebDriver로 자동화한다.     \n",
        "(3) (1)의 파일에서 [교과목명과 교수] 리스트를 로딩한다.      \n",
        "(4) 각 강의에 대해 반복 작업을 수행       \n",
        "&emsp;a. 강의실 메인 페이지 이동      \n",
        "&emsp;b. 검색창에 강의명 입력 -> 검색 실행      \n",
        "&emsp;c. 검색 결과 중에서 교수명까지 일치하는 항목 찾기      \n",
        "&emsp;d. 일치하는 강의 클릭 -> 강의평 탭 클릭      \n",
        "&emsp;e. 강의평 (max 20개) 수집      \n",
        "&emsp;f. 수집한 텍스트를 리스트에 저장      \n",
        "&emsp;g. 다음 강의를 위해 메인 페이지로 복귀"
      ],
      "metadata": {
        "id": "qMug0PBOkASh"
      }
    },
    {
      "cell_type": "markdown",
      "source": [
        "##**2. 필수 패키지???**"
      ],
      "metadata": {
        "id": "EqvHy4BOiHxj"
      }
    },
    {
      "cell_type": "code",
      "source": [
        "\n",
        "import pandas as pd\n",
        "import time\n"
      ],
      "metadata": {
        "id": "VI6PRMhmiz0U"
      },
      "execution_count": null,
      "outputs": []
    },
    {
      "cell_type": "markdown",
      "source": [
        "##**3. 코드 설명**"
      ],
      "metadata": {
        "id": "bpZuH6TviUB1"
      }
    },
    {
      "cell_type": "code",
      "source": [
        "from selenium import webdriver\n",
        "from selenium.webdriver.common.by import By\n",
        "from selenium.webdriver.common.keys import Keys\n",
        "from selenium.webdriver.chrome.service import Service\n",
        "from selenium.webdriver.chrome.options import Options\n",
        "from webdriver_manager.chrome import ChromeDriverManager\n",
        "import pandas as pd\n",
        "import time\n",
        "\n",
        "# 1. 드라이버 설정\n",
        "options = Options()\n",
        "options.add_argument(\"user-agent=Mozilla/5.0\")\n",
        "options.add_experimental_option(\"excludeSwitches\", [\"enable-automation\"])\n",
        "options.add_experimental_option('useAutomationExtension', False)\n",
        "driver = webdriver.Chrome(service=Service(ChromeDriverManager().install()), options=options)\n",
        "driver.implicitly_wait(10)\n",
        "\n",
        "# 2. 로그인\n",
        "driver.get(\"https://everytime.kr/login\")\n",
        "time.sleep(2)\n",
        "driver.find_element(By.NAME, \"id\").send_keys(\"아이디 입력하세요\") #자신의 에타 아이디 입력\n",
        "driver.find_element(By.NAME, \"password\").send_keys(\"비밀번호 입력하세요\") #자신의 에타 비밀번호 입력\n",
        "driver.find_element(By.NAME, \"password\").send_keys(Keys.RETURN)\n",
        "time.sleep(3)\n",
        "print(\"✅ 로그인 완료\")\n",
        "\n",
        "# 3. 강의실 메인 이동\n",
        "driver.get(\"https://everytime.kr/lecture\")\n",
        "time.sleep(3)\n",
        "\n",
        "# 4. CSV 불러오기\n",
        "lecture_df = pd.read_csv(\"강의명_교수명_리스트.csv\")  #자신의 학교 개설강좌의 교과목명, 교수 데이터 파일을 넣기\n",
        "lecture_df.columns = lecture_df.columns.str.strip()\n",
        "lecture_df = lecture_df.dropna(subset=[\"교과목명\", \"교수\"])  # 위의 파일에 열 부분 이름이 \"교과목명\", \"교수\"이어야함 / 파일대로 수정해도 됨\n",
        "lecture_list = lecture_df[[\"교과목명\", \"교수\"]].values.tolist()\n",
        "\n",
        "# 5. 전체 강의 검색 및 강의평 수집\n",
        "data = []\n",
        "\n",
        "for subject, professor in lecture_list:\n",
        "    try:\n",
        "        # ✅ 강의실 메인으로 복귀\n",
        "        driver.get(\"https://everytime.kr/lecture\")\n",
        "        time.sleep(2)\n",
        "\n",
        "        print(f\"🔍 검색 중: {subject} / {professor}\")\n",
        "\n",
        "        # 검색창 찾기\n",
        "        search_box = driver.find_element(By.CSS_SELECTOR, 'input[type=\"search\"]')\n",
        "        search_box.clear()\n",
        "        search_box.send_keys(subject)\n",
        "        search_box.send_keys(Keys.RETURN)\n",
        "        time.sleep(2)\n",
        "\n",
        "        # 검색 결과에서 일치 항목 찾기\n",
        "        results = driver.find_elements(By.CSS_SELECTOR, \"a.lecture\")\n",
        "        matched = False\n",
        "        for r in results:\n",
        "            try:\n",
        "                title = r.find_element(By.CSS_SELECTOR, \".highlight\").text.strip()\n",
        "                professor_name = r.find_element(By.CSS_SELECTOR, \".professor\").text.strip()\n",
        "            except:\n",
        "                continue  # 교수명이 없는 블록은 건너뜀\n",
        "\n",
        "            if subject.replace(\" \", \"\") in title.replace(\" \", \"\") and professor.replace(\" \", \"\") in professor_name.replace(\" \", \"\"):\n",
        "                print(f\"✅ 매칭: {title} / {professor_name}\")\n",
        "                lecture_url = r.get_attribute(\"href\")\n",
        "                driver.get(lecture_url)\n",
        "                time.sleep(2)\n",
        "                matched = True\n",
        "                break\n",
        "\n",
        "        if not matched:\n",
        "            print(f\"❌ 강의 미매칭: {subject} / {professor}\")\n",
        "            continue\n",
        "\n",
        "        # 강의평 탭 클릭\n",
        "        try:\n",
        "            review_tab = driver.find_element(By.LINK_TEXT, \"강의평\")\n",
        "            review_tab.click()\n",
        "            time.sleep(2)\n",
        "        except:\n",
        "            print(\"❌ 강의평 탭 클릭 실패\")\n",
        "            driver.back()\n",
        "            time.sleep(1)\n",
        "            continue\n",
        "\n",
        "        # 강의평 수집 (최대 20개)\n",
        "        reviews = driver.find_elements(By.CSS_SELECTOR, \".text\")\n",
        "        full_text = \"\\n\".join([r.text for r in reviews])\n",
        "        print(f\"📝 {len(reviews)}개 강의평 수집됨\")\n",
        "\n",
        "        data.append([subject, professor, full_text.strip()])\n",
        "        driver.back()\n",
        "        time.sleep(2)\n",
        "\n",
        "    except Exception as e:\n",
        "        print(f\"⚠️ 오류 발생: {e}\")\n",
        "        continue\n",
        "\n",
        "# 6. 수집 결과 저장\n",
        "df = pd.DataFrame(data, columns=[\"과목명\", \"교수명\", \"강의평\"])\n",
        "df.to_csv(\"성신여대_전체강의_강의평.csv\", index=False, encoding=\"utf-8-sig\")\n",
        "print(\"✅ 전체 강의 크롤링 완료 및 CSV 저장!\")\n",
        "\n",
        "# 7. 드라이버 종료\n",
        "driver.quit()\n"
      ],
      "metadata": {
        "id": "wwKfrfa4uIwJ"
      },
      "execution_count": null,
      "outputs": []
    }
  ]
}